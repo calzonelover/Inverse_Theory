{
 "cells": [
  {
   "cell_type": "markdown",
   "metadata": {},
   "source": [
    "## References\n",
    "\n",
    "http://cs231n.github.io/python-numpy-tutorial/\n",
    "\n",
    "https://docs.python.org/3.5/library/stdtypes.html#numeric-types-int-float-complex\n",
    "\n",
    "https://webcourses.ucf.edu/courses/1249560/pages/python-lists-vs-numpy-arrays-what-is-the-difference"
   ]
  },
  {
   "cell_type": "code",
   "execution_count": 12,
   "metadata": {},
   "outputs": [
    {
     "name": "stdout",
     "output_type": "stream",
     "text": [
      "True <class 'bool'>\n",
      "False <class 'bool'>\n",
      "False True False\n"
     ]
    }
   ],
   "source": [
    "# Boolean\n",
    "a = True\n",
    "b = False\n",
    "c = a and b\n",
    "d = a or b\n",
    "e = not a\n",
    "print(a, type(a))\n",
    "print(b, type(b))\n",
    "print(c, d, e)"
   ]
  },
  {
   "cell_type": "code",
   "execution_count": 14,
   "metadata": {},
   "outputs": [
    {
     "name": "stdout",
     "output_type": "stream",
     "text": [
      "1 1.0 (1+2j) 1.0 2.0\n"
     ]
    }
   ],
   "source": [
    "# Numeric types: integers, floating-point numbers, complex numbers\n",
    "a = 1             # integer\n",
    "b = 1.0           # floating-point number (double)\n",
    "c = 1.0+2.0j      # complex number\n",
    "c_real = c.real   # real part of a complex number\n",
    "c_imag = c.imag   # imaginary part of a complex number\n",
    "print(a, b, c, c_real, c_imag)"
   ]
  },
  {
   "cell_type": "code",
   "execution_count": 6,
   "metadata": {},
   "outputs": [
    {
     "name": "stdout",
     "output_type": "stream",
     "text": [
      "10 10.0 (10+0j)\n"
     ]
    }
   ],
   "source": [
    "# Numeric constructors: int(), float(), complex()\n",
    "a = int(10)\n",
    "b = float(10)\n",
    "c = complex(10)\n",
    "print(a, b, c)"
   ]
  },
  {
   "cell_type": "code",
   "execution_count": 9,
   "metadata": {},
   "outputs": [
    {
     "name": "stdout",
     "output_type": "stream",
     "text": [
      "(130+90j)\n"
     ]
    }
   ],
   "source": [
    "# Mathematical functions\n",
    "d = 1+1j\n",
    "e = abs(a) * d.conjugate() * pow(2+1j,3)\n",
    "print(e)"
   ]
  },
  {
   "cell_type": "code",
   "execution_count": 21,
   "metadata": {},
   "outputs": [
    {
     "name": "stdout",
     "output_type": "stream",
     "text": [
      "deep learning 13\n",
      "deep learning 12\n",
      "Deep LEARNING\n",
      "      deep learning \n",
      "abc\n"
     ]
    }
   ],
   "source": [
    "# String\n",
    "a = 'deep'\n",
    "b = \"learning\"\n",
    "c = a+' '+b\n",
    "d = '%s %s %d' % (a, b, len(a+b))\n",
    "print(c, len(c))\n",
    "print(d)\n",
    "print(a.capitalize() + ' ' + b.upper())\n",
    "print(a.rjust(10) + b.center(10))\n",
    "print('  abc    '.strip())"
   ]
  },
  {
   "cell_type": "code",
   "execution_count": null,
   "metadata": {},
   "outputs": [],
   "source": []
  }
 ],
 "metadata": {
  "kernelspec": {
   "display_name": "Python 3",
   "language": "python",
   "name": "python3"
  },
  "language_info": {
   "codemirror_mode": {
    "name": "ipython",
    "version": 3
   },
   "file_extension": ".py",
   "mimetype": "text/x-python",
   "name": "python",
   "nbconvert_exporter": "python",
   "pygments_lexer": "ipython3",
   "version": "3.6.9"
  }
 },
 "nbformat": 4,
 "nbformat_minor": 2
}

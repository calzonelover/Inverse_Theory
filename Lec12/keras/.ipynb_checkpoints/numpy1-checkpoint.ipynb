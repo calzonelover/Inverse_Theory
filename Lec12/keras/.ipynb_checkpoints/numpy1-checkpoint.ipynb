{
 "cells": [
  {
   "cell_type": "code",
   "execution_count": 1,
   "metadata": {},
   "outputs": [
    {
     "name": "stdout",
     "output_type": "stream",
     "text": [
      "[[ 1  2  3  4]\n",
      " [ 5  6  7  8]\n",
      " [ 9 10 11 12]]\n"
     ]
    }
   ],
   "source": [
    "import numpy as np\n",
    "a = np.array([[1,2,3,4], [5,6,7,8], [9,10,11,12]])\n",
    "print(a)"
   ]
  },
  {
   "cell_type": "code",
   "execution_count": 2,
   "metadata": {},
   "outputs": [
    {
     "name": "stdout",
     "output_type": "stream",
     "text": [
      "[[2 3]\n",
      " [6 7]]\n"
     ]
    }
   ],
   "source": [
    "# numpy index starts from 0\n",
    "# numpy slice indexing: array[start:end] where 'start' included, 'end' excluded\n",
    "# 'start' can be dropped when it is 0 as shown below\n",
    "b = a[:2,1:3]\n",
    "print(b)"
   ]
  },
  {
   "cell_type": "code",
   "execution_count": 3,
   "metadata": {},
   "outputs": [
    {
     "name": "stdout",
     "output_type": "stream",
     "text": [
      "[[2 3]\n",
      " [6 7]]\n"
     ]
    }
   ],
   "source": [
    "c = a[0:2,1:3]\n",
    "print(c)"
   ]
  },
  {
   "cell_type": "code",
   "execution_count": 4,
   "metadata": {},
   "outputs": [
    {
     "name": "stdout",
     "output_type": "stream",
     "text": [
      "[5 6 7 8]\n",
      "(4,)\n"
     ]
    }
   ],
   "source": [
    "# integer indexing reduces the rank of array by 1\n",
    "# below 'd' become a vector whose elements are the second row of 'a'\n",
    "d = a[1,:]\n",
    "print(d)\n",
    "print(d.shape)"
   ]
  },
  {
   "cell_type": "code",
   "execution_count": 5,
   "metadata": {},
   "outputs": [
    {
     "name": "stdout",
     "output_type": "stream",
     "text": [
      "[ 2  6 10]\n",
      "(3,)\n"
     ]
    }
   ],
   "source": [
    "# below 'e' is a vector whose elements are the second column of 'a'\n",
    "e = a[:,1]\n",
    "print(e)\n",
    "print(e.shape)"
   ]
  },
  {
   "cell_type": "code",
   "execution_count": 6,
   "metadata": {},
   "outputs": [
    {
     "name": "stdout",
     "output_type": "stream",
     "text": [
      "f [[1 2 3 4]]\n",
      "g [1 2 3 4]\n",
      "(1, 4) (4,)\n"
     ]
    }
   ],
   "source": [
    "f = a[0:1,:]\n",
    "g = f[0]        # [0] reduces the rank of array by 1\n",
    "print('f',f)\n",
    "print('g',g)\n",
    "print(f.shape,g.shape)"
   ]
  },
  {
   "cell_type": "code",
   "execution_count": 7,
   "metadata": {},
   "outputs": [
    {
     "name": "stdout",
     "output_type": "stream",
     "text": [
      "int32\n"
     ]
    }
   ],
   "source": [
    "a = np.array([1,2])\n",
    "print(a.dtype)"
   ]
  },
  {
   "cell_type": "code",
   "execution_count": 8,
   "metadata": {},
   "outputs": [
    {
     "name": "stdout",
     "output_type": "stream",
     "text": [
      "float64\n"
     ]
    }
   ],
   "source": [
    "b = np.array([1.0, 2.0])\n",
    "print(b.dtype)"
   ]
  },
  {
   "cell_type": "code",
   "execution_count": 9,
   "metadata": {},
   "outputs": [
    {
     "name": "stdout",
     "output_type": "stream",
     "text": [
      "[0.93646728 0.25155449 0.0110596  0.63450441] (4,)\n",
      "[0.2668979  0.33865818 0.65177771 0.10170302]\n",
      "0.40687155187015867 0.40687155187015867\n"
     ]
    }
   ],
   "source": [
    "# function 'dot' is used for inner product between vectors\n",
    "a = np.random.rand(4)\n",
    "b = np.random.rand(4)\n",
    "c = a.dot(b)\n",
    "d = np.dot(a,b)\n",
    "print(a,a.shape)\n",
    "print(b)\n",
    "print(c,d)"
   ]
  },
  {
   "cell_type": "code",
   "execution_count": 10,
   "metadata": {},
   "outputs": [
    {
     "name": "stdout",
     "output_type": "stream",
     "text": [
      "[[0.70504757 0.83504319 0.6821511 ]\n",
      " [0.73969498 0.68705258 0.2145058 ]\n",
      " [0.58834455 0.20599747 0.48171439]]\n",
      "[0.20213128 0.64391974 0.62072961]\n",
      "[1.10364434 0.72507231 0.55058306]\n"
     ]
    }
   ],
   "source": [
    "# function 'dot' is also used for matrix-vector multiplication\n",
    "A = np.random.rand(3,3)\n",
    "x = np.random.rand(3)\n",
    "y = A.dot(x)\n",
    "print(A)\n",
    "print(x)\n",
    "print(y)"
   ]
  },
  {
   "cell_type": "code",
   "execution_count": 11,
   "metadata": {},
   "outputs": [
    {
     "name": "stdout",
     "output_type": "stream",
     "text": [
      "[[0.6868652  0.25258099]\n",
      " [0.1241488  0.52940433]]\n",
      "[[0.17607805 0.45167048]\n",
      " [0.79135254 0.69732205]]\n",
      "[[0.3208225  0.48636703]\n",
      " [0.44080534 0.42523966]]\n"
     ]
    }
   ],
   "source": [
    "# function 'dot' is also used for matrix-matrix multiplication\n",
    "A = np.random.rand(2,2)\n",
    "B = np.random.rand(2,2)\n",
    "C = A.dot(B)\n",
    "print(A)\n",
    "print(B)\n",
    "print(C)"
   ]
  },
  {
   "cell_type": "code",
   "execution_count": 12,
   "metadata": {},
   "outputs": [
    {
     "name": "stdout",
     "output_type": "stream",
     "text": [
      "[[1.  1.2]\n",
      " [2.  2.1]\n",
      " [3.  3.2]]\n"
     ]
    }
   ],
   "source": [
    "# load a text file into an array\n",
    "a = np.loadtxt('data1.txt')\n",
    "print(a)"
   ]
  },
  {
   "cell_type": "code",
   "execution_count": 13,
   "metadata": {},
   "outputs": [],
   "source": [
    "# save an array to a binary file in NumPy .npy format\n",
    "np.save('data2.npy',a)"
   ]
  },
  {
   "cell_type": "code",
   "execution_count": 14,
   "metadata": {},
   "outputs": [],
   "source": [
    "# save an array to a text file\n",
    "np.savetxt('data2.txt',a,fmt='%.1f')"
   ]
  },
  {
   "cell_type": "code",
   "execution_count": 15,
   "metadata": {},
   "outputs": [
    {
     "name": "stdout",
     "output_type": "stream",
     "text": [
      "[[1.  1.2]\n",
      " [2.  2.1]\n",
      " [3.  3.2]]\n"
     ]
    }
   ],
   "source": [
    "# read .npy file\n",
    "b = np.load('data2.npy')\n",
    "print(b)"
   ]
  },
  {
   "cell_type": "code",
   "execution_count": 16,
   "metadata": {},
   "outputs": [
    {
     "name": "stdout",
     "output_type": "stream",
     "text": [
      "{'a': 1, 'b': 'dadf'} 1 dadf\n",
      "[[1.  1.2]\n",
      " [2.  2.1]\n",
      " [3.  3.2]]\n",
      "[0 1 2 3 4]\n"
     ]
    }
   ],
   "source": [
    "# dictionary\n",
    "d = {'a': 1, 'b': 'dadf'}\n",
    "print(d,d['a'],d['b'])\n",
    "c = np.arange(5)\n",
    "# save multiple arrays into a binary file in NumPy .npz format\n",
    "np.savez('data3.npz', a, c)\n",
    "npzfile = np.load('data3.npz')\n",
    "npzfile.files\n",
    "print(npzfile['arr_0'])\n",
    "print(npzfile['arr_1'])"
   ]
  },
  {
   "cell_type": "code",
   "execution_count": 17,
   "metadata": {},
   "outputs": [
    {
     "name": "stdout",
     "output_type": "stream",
     "text": [
      "a [[1.  1.2]\n",
      " [2.  2.1]\n",
      " [3.  3.2]]\n",
      "c [0 1 2 3 4]\n"
     ]
    }
   ],
   "source": [
    "np.savez('data4.npz', a=a, c=c)\n",
    "npzfile = np.load('data4.npz')\n",
    "npzfile.files\n",
    "print('a',npzfile['a'])\n",
    "print('c',npzfile['c'])"
   ]
  },
  {
   "cell_type": "code",
   "execution_count": 18,
   "metadata": {},
   "outputs": [
    {
     "name": "stdout",
     "output_type": "stream",
     "text": [
      "(20,)\n",
      "[1. 0. 0. 0. 0. 0. 0. 0. 0. 0. 0. 0. 0. 0. 0. 0. 0. 0. 0. 0.]\n"
     ]
    }
   ],
   "source": [
    "# read binary file\n",
    "a = np.fromfile(file='matlab/data.dat',dtype='float32',count=20)\n",
    "print(a.shape)\n",
    "print(a)"
   ]
  },
  {
   "cell_type": "code",
   "execution_count": 20,
   "metadata": {},
   "outputs": [
    {
     "name": "stdout",
     "output_type": "stream",
     "text": [
      "(100, 100) uint8\n"
     ]
    },
    {
     "data": {
      "text/plain": [
       "True"
      ]
     },
     "execution_count": 20,
     "metadata": {},
     "output_type": "execute_result"
    }
   ],
   "source": [
    "x = np.random.randint(0,256,(100,100),'uint8')\n",
    "print(x.shape,x.dtype)\n",
    "import cv2\n",
    "cv2.imwrite('test.png',x)"
   ]
  },
  {
   "cell_type": "code",
   "execution_count": 21,
   "metadata": {},
   "outputs": [],
   "source": [
    "# read image as grayscale\n",
    "img = cv2.imread('test.png', 0)\n",
    "cv2.imshow('test', img)\n",
    "cv2.waitKey(0)\n",
    "cv2.destroyAllWindows()"
   ]
  },
  {
   "cell_type": "markdown",
   "metadata": {},
   "source": [
    "## Multi-dimensional arrays are stored in row-major ordering by default in NumPy"
   ]
  },
  {
   "cell_type": "code",
   "execution_count": 7,
   "metadata": {},
   "outputs": [
    {
     "name": "stdout",
     "output_type": "stream",
     "text": [
      "a (6,) [1 2 3 4 5 6]\n",
      "b (2, 3)\n",
      "[[1 3 5]\n",
      " [2 4 6]]\n",
      "c (2, 3)\n",
      "[[1 2 3]\n",
      " [4 5 6]]\n"
     ]
    }
   ],
   "source": [
    "import numpy as np\n",
    "a = np.array([1, 2, 3, 4, 5, 6])\n",
    "print('a',a.shape,a)\n",
    "# column-major ordering\n",
    "b = a.reshape(2,3,order='F')\n",
    "print('b',b.shape)\n",
    "print(b)\n",
    "c = a.reshape(2,3)\n",
    "print('c',c.shape)\n",
    "print(c)"
   ]
  },
  {
   "cell_type": "code",
   "execution_count": null,
   "metadata": {},
   "outputs": [],
   "source": []
  }
 ],
 "metadata": {
  "kernelspec": {
   "display_name": "Python 3",
   "language": "python",
   "name": "python3"
  },
  "language_info": {
   "codemirror_mode": {
    "name": "ipython",
    "version": 3
   },
   "file_extension": ".py",
   "mimetype": "text/x-python",
   "name": "python",
   "nbconvert_exporter": "python",
   "pygments_lexer": "ipython3",
   "version": "3.6.5"
  }
 },
 "nbformat": 4,
 "nbformat_minor": 2
}
